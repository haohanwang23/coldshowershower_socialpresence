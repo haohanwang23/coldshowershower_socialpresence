{
 "cells": [
  {
   "cell_type": "code",
   "execution_count": 6,
   "metadata": {},
   "outputs": [],
   "source": [
    "import numpy as np \n",
    "# import tensorflow as tf\n",
    "import pandas as pd\n",
    "import matplotlib.pyplot as plt\n",
    "import seaborn as sns\n",
    "import cvxEDA\n",
    "import datetime\n",
    "from scipy import stats\n",
    "from mpl_toolkits import mplot3d\n",
    "import pylab as pl\n",
    "from mpl_toolkits.mplot3d import Axes3D\n",
    "from sklearn.cluster import KMeans\n",
    "from sklearn.datasets import make_blobs\n",
    "from scipy.stats import ks_2samp\n",
    "from scipy.stats import ttest_1samp, wilcoxon, ttest_ind, mannwhitneyu\n",
    "from sklearn.preprocessing import normalize\n",
    "sns.set(color_codes = True)\n",
    "%matplotlib inline\n",
    "%config InlineBackend.figure_format = 'retina'"
   ]
  },
  {
   "cell_type": "code",
   "execution_count": null,
   "metadata": {},
   "outputs": [],
   "source": [
    "path1 = 'data/group1'\n",
    "path2 = 'data/group2'\n",
    "frequency = df.iloc[1].values\n",
    "# filenames = [join(path,f) for f in listdir(path) if isfile(join(path, f))]\n",
    "# filenames"
   ]
  },
  {
   "cell_type": "code",
   "execution_count": null,
   "metadata": {},
   "outputs": [],
   "source": [
    "def import_data(path):\n",
    "    filenames = [join(path,f) for f in listdir(path) if isfile(join(path, f))]\n",
    "    df1,df2,df3,df4,df5,df6 = pd.read_csv(filenames , header= None)\n",
    "    return df1,df2,df3,df4,df5,df6"
   ]
  },
  {
   "cell_type": "code",
   "execution_count": null,
   "metadata": {},
   "outputs": [],
   "source": [
    "def preprocessing(df_list):\n",
    "    dfs =[]\n",
    "    for df in df_lis:\n",
    "        df.columns = ['eda']\n",
    "        frequency = df.iloc[1].values\n",
    "        df_init_time = datetime.datetime(2018, 4, 16, 7, 0,0).strftime('%Y-%m-%d %H:%M:%S')\n",
    "        time_series = pd.date_range(start=df_init_time, periods=len(df), \n",
    "                              freq=str(1/int(frequency))+'S')\n",
    "        df = df.set_index(time_series, drop =True)\n",
    "        df = df[3:]\n",
    "        df= df.between_time('7:00', '9:00')\n",
    "        dfs.append(df)\n",
    "    return dfs"
   ]
  },
  {
   "cell_type": "code",
   "execution_count": 8,
   "metadata": {},
   "outputs": [
    {
     "name": "stdout",
     "output_type": "stream",
     "text": [
      "5540\n",
      "freq:  [4.]\n"
     ]
    },
    {
     "data": {
      "text/html": [
       "<div>\n",
       "<style scoped>\n",
       "    .dataframe tbody tr th:only-of-type {\n",
       "        vertical-align: middle;\n",
       "    }\n",
       "\n",
       "    .dataframe tbody tr th {\n",
       "        vertical-align: top;\n",
       "    }\n",
       "\n",
       "    .dataframe thead th {\n",
       "        text-align: right;\n",
       "    }\n",
       "</style>\n",
       "<table border=\"1\" class=\"dataframe\">\n",
       "  <thead>\n",
       "    <tr style=\"text-align: right;\">\n",
       "      <th></th>\n",
       "      <th>eda</th>\n",
       "    </tr>\n",
       "  </thead>\n",
       "  <tbody>\n",
       "    <tr>\n",
       "      <th>0</th>\n",
       "      <td>1.530656e+09</td>\n",
       "    </tr>\n",
       "    <tr>\n",
       "      <th>1</th>\n",
       "      <td>4.000000e+00</td>\n",
       "    </tr>\n",
       "    <tr>\n",
       "      <th>2</th>\n",
       "      <td>0.000000e+00</td>\n",
       "    </tr>\n",
       "    <tr>\n",
       "      <th>3</th>\n",
       "      <td>3.715400e-02</td>\n",
       "    </tr>\n",
       "    <tr>\n",
       "      <th>4</th>\n",
       "      <td>4.356000e-02</td>\n",
       "    </tr>\n",
       "    <tr>\n",
       "      <th>5</th>\n",
       "      <td>4.356000e-02</td>\n",
       "    </tr>\n",
       "    <tr>\n",
       "      <th>6</th>\n",
       "      <td>4.484100e-02</td>\n",
       "    </tr>\n",
       "    <tr>\n",
       "      <th>7</th>\n",
       "      <td>4.868500e-02</td>\n",
       "    </tr>\n",
       "    <tr>\n",
       "      <th>8</th>\n",
       "      <td>4.356000e-02</td>\n",
       "    </tr>\n",
       "    <tr>\n",
       "      <th>9</th>\n",
       "      <td>4.484100e-02</td>\n",
       "    </tr>\n",
       "  </tbody>\n",
       "</table>\n",
       "</div>"
      ],
      "text/plain": [
       "            eda\n",
       "0  1.530656e+09\n",
       "1  4.000000e+00\n",
       "2  0.000000e+00\n",
       "3  3.715400e-02\n",
       "4  4.356000e-02\n",
       "5  4.356000e-02\n",
       "6  4.484100e-02\n",
       "7  4.868500e-02\n",
       "8  4.356000e-02\n",
       "9  4.484100e-02"
      ]
     },
     "execution_count": 8,
     "metadata": {},
     "output_type": "execute_result"
    }
   ],
   "source": [
    "fl_eda_7 = pd.read_csv('../data/day_7/EDA.csv' , header= None)\n",
    "fl_eda_7.columns  = ['eda']\n",
    "fl_eda_freq_7 = fl_eda_7.iloc[1].values\n",
    "print(len(fl_eda_7))\n",
    "print('freq: ', fl_eda_freq_7)\n",
    "fl_eda_7.head(10)"
   ]
  },
  {
   "cell_type": "code",
   "execution_count": 12,
   "metadata": {},
   "outputs": [
    {
     "data": {
      "text/plain": [
       "'2018-04-16 07:00:00'"
      ]
     },
     "execution_count": 12,
     "metadata": {},
     "output_type": "execute_result"
    }
   ],
   "source": [
    "# fl_init_time_7 = datetime.datetime.fromtimestamp(fl_eda_7.iloc[0]).strftime('%Y-%m-%d %H:%M:%S')\n",
    "fl_init_time_7 = datetime.datetime(2018, 4, 16, 7, 0,0).strftime('%Y-%m-%d %H:%M:%S')\n",
    "fl_init_time_7"
   ]
  },
  {
   "cell_type": "code",
   "execution_count": 13,
   "metadata": {},
   "outputs": [
    {
     "data": {
      "text/plain": [
       "DatetimeIndex([       '2018-04-16 07:00:00', '2018-04-16 07:00:00.250000',\n",
       "               '2018-04-16 07:00:00.500000', '2018-04-16 07:00:00.750000',\n",
       "                      '2018-04-16 07:00:01', '2018-04-16 07:00:01.250000',\n",
       "               '2018-04-16 07:00:01.500000', '2018-04-16 07:00:01.750000',\n",
       "                      '2018-04-16 07:00:02', '2018-04-16 07:00:02.250000',\n",
       "               ...\n",
       "               '2018-04-16 07:23:02.500000', '2018-04-16 07:23:02.750000',\n",
       "                      '2018-04-16 07:23:03', '2018-04-16 07:23:03.250000',\n",
       "               '2018-04-16 07:23:03.500000', '2018-04-16 07:23:03.750000',\n",
       "                      '2018-04-16 07:23:04', '2018-04-16 07:23:04.250000',\n",
       "               '2018-04-16 07:23:04.500000', '2018-04-16 07:23:04.750000'],\n",
       "              dtype='datetime64[ns]', length=5540, freq='250L')"
      ]
     },
     "execution_count": 13,
     "metadata": {},
     "output_type": "execute_result"
    }
   ],
   "source": [
    "fl_time_eda_7 = pd.date_range(start=fl_init_time_7, periods=len(fl_eda_7), \n",
    "                              freq=str(1/int(fl_eda_freq_7))+'S')\n",
    "fl_time_eda_7"
   ]
  },
  {
   "cell_type": "code",
   "execution_count": 16,
   "metadata": {},
   "outputs": [
    {
     "name": "stdout",
     "output_type": "stream",
     "text": [
      "5537\n"
     ]
    },
    {
     "data": {
      "text/html": [
       "<div>\n",
       "<style scoped>\n",
       "    .dataframe tbody tr th:only-of-type {\n",
       "        vertical-align: middle;\n",
       "    }\n",
       "\n",
       "    .dataframe tbody tr th {\n",
       "        vertical-align: top;\n",
       "    }\n",
       "\n",
       "    .dataframe thead th {\n",
       "        text-align: right;\n",
       "    }\n",
       "</style>\n",
       "<table border=\"1\" class=\"dataframe\">\n",
       "  <thead>\n",
       "    <tr style=\"text-align: right;\">\n",
       "      <th></th>\n",
       "      <th>eda</th>\n",
       "    </tr>\n",
       "  </thead>\n",
       "  <tbody>\n",
       "    <tr>\n",
       "      <th>2018-04-16 07:00:00.750</th>\n",
       "      <td>0.037154</td>\n",
       "    </tr>\n",
       "    <tr>\n",
       "      <th>2018-04-16 07:00:01.000</th>\n",
       "      <td>0.043560</td>\n",
       "    </tr>\n",
       "    <tr>\n",
       "      <th>2018-04-16 07:00:01.250</th>\n",
       "      <td>0.043560</td>\n",
       "    </tr>\n",
       "    <tr>\n",
       "      <th>2018-04-16 07:00:01.500</th>\n",
       "      <td>0.044841</td>\n",
       "    </tr>\n",
       "    <tr>\n",
       "      <th>2018-04-16 07:00:01.750</th>\n",
       "      <td>0.048685</td>\n",
       "    </tr>\n",
       "  </tbody>\n",
       "</table>\n",
       "</div>"
      ],
      "text/plain": [
       "                              eda\n",
       "2018-04-16 07:00:00.750  0.037154\n",
       "2018-04-16 07:00:01.000  0.043560\n",
       "2018-04-16 07:00:01.250  0.043560\n",
       "2018-04-16 07:00:01.500  0.044841\n",
       "2018-04-16 07:00:01.750  0.048685"
      ]
     },
     "execution_count": 16,
     "metadata": {},
     "output_type": "execute_result"
    }
   ],
   "source": [
    "fl_eda_7 = fl_eda_7.set_index(fl_time_eda_7, drop =True)\n",
    "fl_eda_7 = fl_eda_7[3:]\n",
    "# fl_eda_7= pd.date_range('07:00:00', '09:00:00')\n",
    "fl_eda_7 = fl_eda_7.dropna()\n",
    "print(len(fl_eda_7))\n",
    "fl_eda_7.head()"
   ]
  },
  {
   "cell_type": "code",
   "execution_count": 23,
   "metadata": {},
   "outputs": [
    {
     "data": {
      "text/html": [
       "<div>\n",
       "<style scoped>\n",
       "    .dataframe tbody tr th:only-of-type {\n",
       "        vertical-align: middle;\n",
       "    }\n",
       "\n",
       "    .dataframe tbody tr th {\n",
       "        vertical-align: top;\n",
       "    }\n",
       "\n",
       "    .dataframe thead th {\n",
       "        text-align: right;\n",
       "    }\n",
       "</style>\n",
       "<table border=\"1\" class=\"dataframe\">\n",
       "  <thead>\n",
       "    <tr style=\"text-align: right;\">\n",
       "      <th></th>\n",
       "      <th>eda</th>\n",
       "      <th>eda_norm</th>\n",
       "    </tr>\n",
       "  </thead>\n",
       "  <tbody>\n",
       "    <tr>\n",
       "      <th>2018-04-16 07:00:00.750</th>\n",
       "      <td>0.037154</td>\n",
       "      <td>0.047617</td>\n",
       "    </tr>\n",
       "    <tr>\n",
       "      <th>2018-04-16 07:00:01.000</th>\n",
       "      <td>0.043560</td>\n",
       "      <td>0.074072</td>\n",
       "    </tr>\n",
       "    <tr>\n",
       "      <th>2018-04-16 07:00:01.250</th>\n",
       "      <td>0.043560</td>\n",
       "      <td>0.074072</td>\n",
       "    </tr>\n",
       "    <tr>\n",
       "      <th>2018-04-16 07:00:01.500</th>\n",
       "      <td>0.044841</td>\n",
       "      <td>0.079363</td>\n",
       "    </tr>\n",
       "    <tr>\n",
       "      <th>2018-04-16 07:00:01.750</th>\n",
       "      <td>0.048685</td>\n",
       "      <td>0.095238</td>\n",
       "    </tr>\n",
       "  </tbody>\n",
       "</table>\n",
       "</div>"
      ],
      "text/plain": [
       "                              eda  eda_norm\n",
       "2018-04-16 07:00:00.750  0.037154  0.047617\n",
       "2018-04-16 07:00:01.000  0.043560  0.074072\n",
       "2018-04-16 07:00:01.250  0.043560  0.074072\n",
       "2018-04-16 07:00:01.500  0.044841  0.079363\n",
       "2018-04-16 07:00:01.750  0.048685  0.095238"
      ]
     },
     "execution_count": 23,
     "metadata": {},
     "output_type": "execute_result"
    }
   ],
   "source": [
    "fl_eda_7['eda_norm'] = (fl_eda_7.eda - fl_eda_7.eda.min()) / (fl_eda_7.eda.max() - fl_eda_7.eda.min())\n",
    "fl_eda_7.head()\n",
    " "
   ]
  },
  {
   "cell_type": "markdown",
   "metadata": {},
   "source": [
    "## Count the frequency above 75% quantile"
   ]
  },
  {
   "cell_type": "code",
   "execution_count": 32,
   "metadata": {},
   "outputs": [
    {
     "data": {
      "text/plain": [
       "1349"
      ]
     },
     "execution_count": 32,
     "metadata": {},
     "output_type": "execute_result"
    }
   ],
   "source": [
    "eda_75 = np.mean(fl_eda_7.eda_norm.quantile(0.75))\n",
    "sum(i > eda_75 for i in fl_eda_7.eda_norm)"
   ]
  },
  {
   "cell_type": "code",
   "execution_count": 30,
   "metadata": {},
   "outputs": [
    {
     "name": "stdout",
     "output_type": "stream",
     "text": [
      "0.6666666666666666\n"
     ]
    },
    {
     "data": {
      "image/png": "[encoded data removed]",
      "text/plain": [
       "<Figure size 1080x432 with 1 Axes>"
      ]
     },
     "metadata": {
      "image/png": {
       "height": 363,
       "width": 881
      },
      "needs_background": "light"
     },
     "output_type": "display_data"
    }
   ],
   "source": [
    "# plt.axvline(x = '2018-07-03 15:20:50.000',color = 'mediumaquamarine',linestyle='--')\n",
    "plt.figure(figsize=(15,6))\n",
    "plt.plot(fl_eda_7['eda_norm'],color ='mediumaquamarine')\n",
    "\n",
    "# for (idx,data_point, presence, label) in tags_7.itertuples():\n",
    "# #     print(data_point)\n",
    "#     plt.axvline(x=data_point,color = 'lightsalmon', linestyle='--')\n",
    "#     plt.text(data_point,0.05, s=label, horizontalalignment='center', verticalalignment='center',\n",
    "#             fontsize=15)\n",
    "# # # plt.axvline(x = tags_2.tagged_time[5],color = 'c',linestyle='--')\n",
    "# plt.figtext(.5,.9,'Day 7 Social presence and stress response of cold shower - EDA ',\n",
    "#             fontsize=20, ha='center')\n",
    "# plt.legend(['EDA_day3'],loc=2,fontsize='medium')\n",
    "\n",
    "\n",
    "print(eda_mean)\n",
    "plt.axhline(y = eda_mean, color = 'lightsalmon', linestyle = '--')\n",
    "# plt.savefig('black-eda.png', transparent=True)\n",
    "\n",
    "plt.show()"
   ]
  },
  {
   "cell_type": "code",
   "execution_count": null,
   "metadata": {},
   "outputs": [],
   "source": []
  },
  {
   "cell_type": "code",
   "execution_count": null,
   "metadata": {},
   "outputs": [],
   "source": []
  }
 ],
 "metadata": {
  "kernelspec": {
   "display_name": "Python 3",
   "language": "python",
   "name": "python3"
  },
  "language_info": {
   "codemirror_mode": {
    "name": "ipython",
    "version": 3
   },
   "file_extension": ".py",
   "mimetype": "text/x-python",
   "name": "python",
   "nbconvert_exporter": "python",
   "pygments_lexer": "ipython3",
   "version": "3.6.3"
  }
 },
 "nbformat": 4,
 "nbformat_minor": 2
}
