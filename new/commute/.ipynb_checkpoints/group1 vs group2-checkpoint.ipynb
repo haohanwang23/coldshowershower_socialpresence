{
 "cells": [
  {
   "cell_type": "code",
   "execution_count": 29,
   "metadata": {},
   "outputs": [],
   "source": [
    "import numpy as np \n",
    "from os import listdir\n",
    "from os.path import isfile, join\n",
    "import pandas as pd\n",
    "import matplotlib.pyplot as plt\n",
    "import seaborn as sns\n",
    "import cvxEDA\n",
    "import datetime\n",
    "from scipy import stats\n",
    "from statsmodels.formula.api import ols\n",
    "from statsmodels.stats.anova import anova_lm\n",
    "from statsmodels.graphics.factorplots import interaction_plot\n",
    "\n",
    "import pylab as pl\n",
    "from scipy.stats import ttest_1samp, wilcoxon, ttest_ind, mannwhitneyu\n",
    "from sklearn.preprocessing import normalize\n",
    "sns.set(color_codes = True)\n",
    "%matplotlib inline\n",
    "%config InlineBackend.figure_format = 'retina'\n",
    "params = {'legend.fontsize': 'large',\n",
    "          'figure.figsize': (10, 8),\n",
    "         'axes.labelsize': 'large',\n",
    "         'axes.titlesize':'large',\n",
    "         'xtick.labelsize':'large',\n",
    "         'ytick.labelsize':'large'}\n",
    "pl.rcParams.update(params)"
   ]
  },
  {
   "cell_type": "code",
   "execution_count": 30,
   "metadata": {},
   "outputs": [
    {
     "data": {
      "text/plain": [
       "['data/group1/EDA2.csv',\n",
       " 'data/group1/EDA1.csv',\n",
       " 'data/group1/EDA5.csv',\n",
       " 'data/group1/EDA6.csv',\n",
       " 'data/group1/EDA4.csv',\n",
       " 'data/group1/EDA3.csv']"
      ]
     },
     "execution_count": 30,
     "metadata": {},
     "output_type": "execute_result"
    }
   ],
   "source": [
    "path1 = 'data/group1'\n",
    "path2 = 'data/group2'\n",
    "# frequency = df.iloc[1].values\n",
    "filenames = [join(path1,f) for f in listdir(path1) if isfile(join(path1, f))]\n",
    "filenames"
   ]
  },
  {
   "cell_type": "code",
   "execution_count": 31,
   "metadata": {},
   "outputs": [],
   "source": [
    "def file_names(path):\n",
    "    filenames = [join(path,f) for f in listdir(path) if isfile(join(path, f))]\n",
    "    return filenames"
   ]
  },
  {
   "cell_type": "code",
   "execution_count": 32,
   "metadata": {},
   "outputs": [],
   "source": [
    "def import_data(filename):\n",
    "    df = pd.read_csv(filename , header= None)\n",
    "    df.columns = ['eda']\n",
    "    frequency = df.iloc[1].values\n",
    "    df_init_time = datetime.datetime(2018, np.random.choice(range(3,5),1), \n",
    "                                     np.random.choice(range(1,30),1), \n",
    "                                     7, 0,0).strftime('%Y-%m-%d %H:%M:%S')\n",
    "    time_series = pd.date_range(start=df_init_time, periods=len(df), \n",
    "                          freq=str(1/int(frequency))+'S')\n",
    "    df = df.set_index(time_series, drop =True)\n",
    "    df = df[3:]\n",
    "    df= df.between_time('7:00', '9:00')\n",
    "#     df['eda_norm'] = (df.eda - df.eda.min()) / (df.eda.max() - df.eda.min())\n",
    "    df['std_eda'] = (df.eda - df.eda.mean()) / (df.eda.std())\n",
    "# #     eda_std = []\n",
    "# #     eda_std.append(df['eda_std'])\n",
    "#     def quantile(df,quant):\n",
    "        \n",
    "# #         mean = []\n",
    "#         eda_mean = np.mean(df.eda_std)\n",
    "#         eda_quan = df.eda_std.quantile(quant)\n",
    "#         count = sum(i > eda_quan for i in df.eda)\n",
    "#         max_scr = max(df.eda_std)\n",
    "# #         plt.figure(figsize=(15,6))\n",
    "# #         plt.plot(df['eda'],color ='mediumaquamarine')\n",
    "# #         plt.axhline(y = eda_mean, color = 'lightsalmon', linestyle = '--')\n",
    "# #         plt.axhline(y = eda_quan, color = 'coral', linestyle = '--')\n",
    "#         return count,eda_mean,max_scr\n",
    "   \n",
    "#     if quant:\n",
    "#         return (df,quantile(df,quant))\n",
    "#     else:\n",
    "    return df\n",
    "    \n"
   ]
  },
  {
   "cell_type": "code",
   "execution_count": 33,
   "metadata": {},
   "outputs": [],
   "source": [
    "    def quantile(df,quant):\n",
    "        \n",
    "#         mean = []\n",
    "        eda_mean = np.mean(df.std_eda)\n",
    "        eda_quan = df.eda_std.quantile(quant)\n",
    "        count = sum(i > eda_quan for i in df.eda)\n",
    "        max_scr = max(df.eda_std)\n",
    "#         plt.figure(figsize=(15,6))\n",
    "#         plt.plot(df['eda'],color ='mediumaquamarine')\n",
    "#         plt.axhline(y = eda_mean, color = 'lightsalmon', linestyle = '--')\n",
    "#         plt.axhline(y = eda_quan, color = 'coral', linestyle = '--')\n",
    "        return count,eda_mean,max_scr"
   ]
  },
  {
   "cell_type": "code",
   "execution_count": 34,
   "metadata": {},
   "outputs": [],
   "source": [
    "def construct_df(df1,df2,df3,df4,df5,df6):\n",
    "#     std_eda = []\n",
    "    group_eda = pd.DataFrame({'person1':df1.std_eda, \n",
    "                              'person2':df2.std_eda,\n",
    "                              'person3':df3.std_eda,\n",
    "                         df4.std_eda,df5.std_eda,df6.std_eda]}\n",
    "                         columns = ['person1','person2','person3',\n",
    "                                    'person4','person5','person6'])\n",
    "    group_count = pd.DataFrame([df1.std_eda, df2.std_eda,df3.std_eda,\n",
    "                         df4.std_eda,df5.std_eda,df6.std_eda],\n",
    "                         columns = ['person1','person2','person3',\n",
    "                                    'person4','person5','person6'])\n",
    "    group_mean = pd.DataFrame([df1.std_eda, df2.std_eda,df3.std_eda,\n",
    "                         df4.std_eda,df5.std_eda,df6.std_eda],\n",
    "                         columns = ['person1','person2','person3',\n",
    "                                    'person4','person5','person6'])\n",
    "    group_max = pd.DataFrame([df1.std_eda, df2.std_eda,df3.std_eda,\n",
    "                         df4.std_eda,df5.std_eda,df6.std_eda],\n",
    "                         columns = ['person1','person2','person3',\n",
    "                                    'person4','person5','person6'])\n",
    "    return group_count\n",
    "#     stats.f_oneway(tillamook, newport, petersburg, magadan, tvarminne)\n",
    "#     scipy.stats.ttest_ind(a, b, axis=0, equal_var=True,\n",
    "    "
   ]
  },
  {
   "cell_type": "code",
   "execution_count": 35,
   "metadata": {},
   "outputs": [],
   "source": [
    "def ttest(group1, group2):\n",
    "#      stats.f_oneway(tillamook, newport, petersburg, magadan, tvarminne)\n",
    "   return scipy.stats.ttest_ind(group1,group2, axis=0, equal_var=False)\n",
    "    "
   ]
  },
  {
   "cell_type": "code",
   "execution_count": 36,
   "metadata": {},
   "outputs": [],
   "source": [
    "def cvx_eda(df):\n",
    "    y = np.asarray(df.std_eda)\n",
    "#     yn = (y - y.mean()) / y.std()\n",
    "    Fs = 4.\n",
    "    [r, p, t, l, d, e, obj] = cvxEDA.cvxEDA(yn, 1./Fs)\n",
    "    return y,r\n",
    "\n",
    "def plot(yn,r):\n",
    "    # pl.rcParams['figure.figsize'] = (30,20)\n",
    "    tm = pl.arange(1., len(y)+1.) / Fs\n",
    "\n",
    "#     pl.hold(True)\n",
    "    pl.plot(tm, yn,alpha = 0.6,color= 'mediumaquamarine')\n",
    "\n",
    "    pl.plot(tm, r,alpha = 0.5,color = 'lightsalmon')\n",
    "# pl.plot(tm1, p1,alpha = 0.6)\n",
    "#     pl.plot(tm, t,alpha = 0.6, color = 'mediumpurple')\n",
    "\n",
    "\n",
    "    pl.title('cvxEDA Deconvolution Analysis on EDA ')\n",
    "    pl.legend(['SC Z-score','Phasic Component'])\n",
    "#     plt.savefig('.png', transparent=True)\n",
    "    plt.show()\n",
    "        "
   ]
  },
  {
   "cell_type": "code",
   "execution_count": 38,
   "metadata": {
    "scrolled": true
   },
   "outputs": [
    {
     "data": {
      "text/html": [
       "<div>\n",
       "<style scoped>\n",
       "    .dataframe tbody tr th:only-of-type {\n",
       "        vertical-align: middle;\n",
       "    }\n",
       "\n",
       "    .dataframe tbody tr th {\n",
       "        vertical-align: top;\n",
       "    }\n",
       "\n",
       "    .dataframe thead th {\n",
       "        text-align: right;\n",
       "    }\n",
       "</style>\n",
       "<table border=\"1\" class=\"dataframe\">\n",
       "  <thead>\n",
       "    <tr style=\"text-align: right;\">\n",
       "      <th></th>\n",
       "      <th>eda</th>\n",
       "      <th>std_eda</th>\n",
       "    </tr>\n",
       "  </thead>\n",
       "  <tbody>\n",
       "    <tr>\n",
       "      <th>2018-03-03 07:00:00.750</th>\n",
       "      <td>0.026905</td>\n",
       "      <td>-0.893759</td>\n",
       "    </tr>\n",
       "    <tr>\n",
       "      <th>2018-03-03 07:00:01.000</th>\n",
       "      <td>0.060215</td>\n",
       "      <td>-0.735582</td>\n",
       "    </tr>\n",
       "    <tr>\n",
       "      <th>2018-03-03 07:00:01.250</th>\n",
       "      <td>0.060215</td>\n",
       "      <td>-0.735582</td>\n",
       "    </tr>\n",
       "    <tr>\n",
       "      <th>2018-03-03 07:00:01.500</th>\n",
       "      <td>0.061496</td>\n",
       "      <td>-0.729499</td>\n",
       "    </tr>\n",
       "    <tr>\n",
       "      <th>2018-03-03 07:00:01.750</th>\n",
       "      <td>0.062778</td>\n",
       "      <td>-0.723412</td>\n",
       "    </tr>\n",
       "  </tbody>\n",
       "</table>\n",
       "</div>"
      ],
      "text/plain": [
       "                              eda   std_eda\n",
       "2018-03-03 07:00:00.750  0.026905 -0.893759\n",
       "2018-03-03 07:00:01.000  0.060215 -0.735582\n",
       "2018-03-03 07:00:01.250  0.060215 -0.735582\n",
       "2018-03-03 07:00:01.500  0.061496 -0.729499\n",
       "2018-03-03 07:00:01.750  0.062778 -0.723412"
      ]
     },
     "execution_count": 38,
     "metadata": {},
     "output_type": "execute_result"
    }
   ],
   "source": [
    "df1_1,df1_2,df1_3,df1_4,df1_5,df1_6 =  [import_data(filepath) \n",
    "                                        for filepath in file_names(path1)]\n",
    "df2_1,df2_2,df2_3,df2_4,df2_5,df2_6 =  [import_data(filepath) \n",
    "                                        for filepath in file_names(path2)]\n",
    "# (df1_1,count1_1,mean1_1,max_scr1_1),(df1_2,count1_2,mean1_2,max_scr1_2),(df1_3,count1_3,mean1_3,max_scr1_3),(df1_4,count1_4,mean1_4,max_scr1_4),(df1_5,count1_5,mean1_5,max_scr1_5),(df1_6,count1_6,mean1_6,max_scr1_6) = [import_data(filepath,0.75) for filepath in file_names(path1)]\n",
    "# (df2_1,count2_1,mean2_1,max_scr2_1),(df2_2,count2_2,mean2_2,max_scr2_2),(df2_3,count2_3,mean2_3,max_scr2_3),S(df2_4,count2_4,mean2_4,max_scr2_4),(df2_5,count2_5,mean2_5,max_scr2_5),(df2_6,count2_6,mean2_6,max_scr2_6) =[import_data(filepath,0.75) for filepath in file_names(path2)]\n",
    "# group1 =[]\n",
    "# group2 =[]\n",
    "# group1.extend((count1_1,count1_2,count1_3,count1_4,count1_5,count1_6))\n",
    "# group2.extend((count1_1,count1_2,count1_3,count1_4,count1_5,count1_6))\n",
    "\n",
    "df1_1.head()"
   ]
  },
  {
   "cell_type": "code",
   "execution_count": 39,
   "metadata": {},
   "outputs": [
    {
     "data": {
      "text/html": [
       "<div>\n",
       "<style scoped>\n",
       "    .dataframe tbody tr th:only-of-type {\n",
       "        vertical-align: middle;\n",
       "    }\n",
       "\n",
       "    .dataframe tbody tr th {\n",
       "        vertical-align: top;\n",
       "    }\n",
       "\n",
       "    .dataframe thead th {\n",
       "        text-align: right;\n",
       "    }\n",
       "</style>\n",
       "<table border=\"1\" class=\"dataframe\">\n",
       "  <thead>\n",
       "    <tr style=\"text-align: right;\">\n",
       "      <th></th>\n",
       "      <th>person1</th>\n",
       "      <th>person2</th>\n",
       "      <th>person3</th>\n",
       "      <th>person4</th>\n",
       "      <th>person5</th>\n",
       "      <th>person6</th>\n",
       "    </tr>\n",
       "  </thead>\n",
       "  <tbody>\n",
       "    <tr>\n",
       "      <th>std_eda</th>\n",
       "      <td>NaN</td>\n",
       "      <td>NaN</td>\n",
       "      <td>NaN</td>\n",
       "      <td>NaN</td>\n",
       "      <td>NaN</td>\n",
       "      <td>NaN</td>\n",
       "    </tr>\n",
       "    <tr>\n",
       "      <th>std_eda</th>\n",
       "      <td>NaN</td>\n",
       "      <td>NaN</td>\n",
       "      <td>NaN</td>\n",
       "      <td>NaN</td>\n",
       "      <td>NaN</td>\n",
       "      <td>NaN</td>\n",
       "    </tr>\n",
       "    <tr>\n",
       "      <th>std_eda</th>\n",
       "      <td>NaN</td>\n",
       "      <td>NaN</td>\n",
       "      <td>NaN</td>\n",
       "      <td>NaN</td>\n",
       "      <td>NaN</td>\n",
       "      <td>NaN</td>\n",
       "    </tr>\n",
       "    <tr>\n",
       "      <th>std_eda</th>\n",
       "      <td>NaN</td>\n",
       "      <td>NaN</td>\n",
       "      <td>NaN</td>\n",
       "      <td>NaN</td>\n",
       "      <td>NaN</td>\n",
       "      <td>NaN</td>\n",
       "    </tr>\n",
       "    <tr>\n",
       "      <th>std_eda</th>\n",
       "      <td>NaN</td>\n",
       "      <td>NaN</td>\n",
       "      <td>NaN</td>\n",
       "      <td>NaN</td>\n",
       "      <td>NaN</td>\n",
       "      <td>NaN</td>\n",
       "    </tr>\n",
       "    <tr>\n",
       "      <th>std_eda</th>\n",
       "      <td>NaN</td>\n",
       "      <td>NaN</td>\n",
       "      <td>NaN</td>\n",
       "      <td>NaN</td>\n",
       "      <td>NaN</td>\n",
       "      <td>NaN</td>\n",
       "    </tr>\n",
       "  </tbody>\n",
       "</table>\n",
       "</div>"
      ],
      "text/plain": [
       "         person1  person2  person3  person4  person5  person6\n",
       "std_eda      NaN      NaN      NaN      NaN      NaN      NaN\n",
       "std_eda      NaN      NaN      NaN      NaN      NaN      NaN\n",
       "std_eda      NaN      NaN      NaN      NaN      NaN      NaN\n",
       "std_eda      NaN      NaN      NaN      NaN      NaN      NaN\n",
       "std_eda      NaN      NaN      NaN      NaN      NaN      NaN\n",
       "std_eda      NaN      NaN      NaN      NaN      NaN      NaN"
      ]
     },
     "execution_count": 39,
     "metadata": {},
     "output_type": "execute_result"
    }
   ],
   "source": [
    "group1_count = construct_df(df1_1,df1_2,df1_3,df1_4,df1_5,df1_6)\n",
    "group2_count = construct_df(df2_1,df2_2,df2_3,df2_4,df2_5,df2_6)\n",
    "group1_count\n"
   ]
  },
  {
   "cell_type": "code",
   "execution_count": null,
   "metadata": {},
   "outputs": [],
   "source": [
    "ttest(group1,group2)"
   ]
  },
  {
   "cell_type": "code",
   "execution_count": null,
   "metadata": {},
   "outputs": [],
   "source": []
  },
  {
   "cell_type": "code",
   "execution_count": null,
   "metadata": {},
   "outputs": [],
   "source": []
  },
  {
   "cell_type": "code",
   "execution_count": null,
   "metadata": {},
   "outputs": [],
   "source": []
  },
  {
   "cell_type": "code",
   "execution_count": null,
   "metadata": {},
   "outputs": [],
   "source": []
  },
  {
   "cell_type": "code",
   "execution_count": null,
   "metadata": {},
   "outputs": [],
   "source": []
  },
  {
   "cell_type": "code",
   "execution_count": null,
   "metadata": {},
   "outputs": [],
   "source": [
    "# (df1_1,count1_1,mean1_1,max_scr1_1),(df1_2,count1_2,mean1_2,max_scr1_2),(df1_3,count1_3,mean1_3,max_scr1_3),\\\n",
    "# (df1_4,count1_4,mean1_4,max_scr1_4),(df1_5,count1_5,mean1_5,max_scr1_5),\\\n",
    "# (df1_6,count1_6,mean1_6,max_scr1_6) = [import_data(filepath,0.75) \n",
    "#                                                     for filepath in file_names(path1)]\n",
    "# (df2_1,count2_1,mean2"
   ]
  },
  {
   "cell_type": "code",
   "execution_count": null,
   "metadata": {},
   "outputs": [],
   "source": [
    "# def cvx_eda(df):\n",
    "#     y = np.asarray(df.eda)\n",
    "#     yn1 = (y - y.mean()) / y.std()\n",
    "#     Fs = 4.\n",
    "#     [r, p, t, l, d, e, obj] = cvxEDA.cvxEDA(yn, 1./Fs)\n",
    "\n",
    "#     # pl.rcParams['figure.figsize'] = (30,20)\n",
    "#     tm = pl.arange(1., len(y)+1.) / Fs\n",
    "    \n",
    "#     pl.hold(True)\n",
    "#     pl.plot(tm, yn,alpha = 0.6,color= 'mediumaquamarine')\n",
    "\n",
    "#     pl.plot(tm, r,alpha = 0.5,color = 'lightsalmon')\n",
    "# # pl.plot(tm1, p1,alpha = 0.6)\n",
    "#     pl.plot(tm, t,alpha = 0.6, color = 'mediumpurple')\n",
    "\n",
    "\n",
    "#     pl.title('cvxEDA Deconvolution Analysis on EDA ')\n",
    "#     pl.legend(['SC Z-score','Phasic Component','Tonic Component'])\n",
    "# #     plt.savefig('.png', transparent=True)\n",
    "#     plt.show()"
   ]
  },
  {
   "cell_type": "code",
   "execution_count": null,
   "metadata": {},
   "outputs": [],
   "source": [
    "# def quantile(df):\n",
    "#     quan_75 = []\n",
    "#     eda_mean = np.mean(df.eda_norm)\n",
    "#     eda_75 = df.eda_norm.quantile(0.75)\n",
    "#     quan_75.append(sum(i > eda_75 for i in df.eda_norm))\n",
    "#     plt.figure(figsize=(15,6))\n",
    "#     plt.plot(df['eda_norm'],color ='mediumaquamarine')\n",
    "#     plt.axhline(y = eda_mean, color = 'lightsalmon', linestyle = '--')\n",
    "#     plt.axhline(y = eda_75, color = 'coral', linestyle = '--')\n",
    "# #     df.plot(df.eda_norm)\n",
    "#     return quan_75\n",
    "    "
   ]
  },
  {
   "cell_type": "code",
   "execution_count": null,
   "metadata": {},
   "outputs": [],
   "source": [
    "fl_eda_7 = pd.read_csv('../data/day_7/EDA.csv' , header= None)\n",
    "fl_eda_7.columns  = ['eda']\n",
    "fl_eda_freq_7 = fl_eda_7.iloc[1].values\n",
    "print(len(fl_eda_7))\n",
    "print('freq: ', fl_eda_freq_7)\n",
    "fl_eda_7.head(10)"
   ]
  },
  {
   "cell_type": "code",
   "execution_count": null,
   "metadata": {},
   "outputs": [],
   "source": [
    "# fl_init_time_7 = datetime.datetime.fromtimestamp(fl_eda_7.iloc[0]).strftime('%Y-%m-%d %H:%M:%S')\n",
    "fl_init_time_7 = datetime.datetime(2018, 4, 16, 7, 0,0).strftime('%Y-%m-%d %H:%M:%S')\n",
    "fl_init_time_7"
   ]
  },
  {
   "cell_type": "code",
   "execution_count": null,
   "metadata": {},
   "outputs": [],
   "source": [
    "fl_time_eda_7 = pd.date_range(start=fl_init_time_7, periods=len(fl_eda_7), \n",
    "                              freq=str(1/int(fl_eda_freq_7))+'S')\n",
    "fl_time_eda_7"
   ]
  },
  {
   "cell_type": "code",
   "execution_count": null,
   "metadata": {},
   "outputs": [],
   "source": [
    "fl_eda_7 = fl_eda_7.set_index(fl_time_eda_7, drop =True)\n",
    "fl_eda_7 = fl_eda_7[3:]\n",
    "# fl_eda_7= pd.date_range('07:00:00', '09:00:00')\n",
    "fl_eda_7 = fl_eda_7.dropna()\n",
    "print(len(fl_eda_7))\n",
    "fl_eda_7.head()"
   ]
  },
  {
   "cell_type": "markdown",
   "metadata": {},
   "source": [
    "# Normalize the data"
   ]
  },
  {
   "cell_type": "code",
   "execution_count": null,
   "metadata": {},
   "outputs": [],
   "source": [
    "fl_eda_7['eda_norm'] = (fl_eda_7.eda - fl_eda_7.eda.min()) / (fl_eda_7.eda.max() - fl_eda_7.eda.min())\n",
    "fl_eda_7.head()\n",
    " "
   ]
  },
  {
   "cell_type": "markdown",
   "metadata": {},
   "source": [
    "## Count the frequency above 75% quantile"
   ]
  },
  {
   "cell_type": "code",
   "execution_count": null,
   "metadata": {},
   "outputs": [],
   "source": [
    "eda_75 = np.mean(fl_eda_7.eda_norm.quantile(0.75))\n",
    "sum(i > eda_75 for i in fl_eda_7.eda_norm)"
   ]
  },
  {
   "cell_type": "code",
   "execution_count": null,
   "metadata": {},
   "outputs": [],
   "source": [
    "# plt.axvline(x = '2018-07-03 15:20:50.000',color = 'mediumaquamarine',linestyle='--')\n",
    "plt.figure(figsize=(15,6))\n",
    "plt.plot(fl_eda_7['eda_norm'],color ='mediumaquamarine')\n",
    "\n",
    "# for (idx,data_point, presence, label) in tags_7.itertuples():\n",
    "# #     print(data_point)\n",
    "#     plt.axvline(x=data_point,color = 'lightsalmon', linestyle='--')\n",
    "#     plt.text(data_point,0.05, s=label, horizontalalignment='center', verticalalignment='center',\n",
    "#             fontsize=15)\n",
    "# # # plt.axvline(x = tags_2.tagged_time[5],color = 'c',linestyle='--')\n",
    "# plt.figtext(.5,.9,'Day 7 Social presence and stress response of cold shower - EDA ',\n",
    "#             fontsize=20, ha='center')\n",
    "# plt.legend(['EDA_day3'],loc=2,fontsize='medium')\n",
    "\n",
    "\n",
    "print(eda_mean)\n",
    "plt.axhline(y = eda_mean, color = 'lightsalmon', linestyle = '--')\n",
    "# plt.savefig('black-eda.png', transparent=True)\n",
    "\n",
    "plt.show()"
   ]
  },
  {
   "cell_type": "code",
   "execution_count": null,
   "metadata": {},
   "outputs": [],
   "source": []
  },
  {
   "cell_type": "code",
   "execution_count": null,
   "metadata": {},
   "outputs": [],
   "source": []
  },
  {
   "cell_type": "code",
   "execution_count": null,
   "metadata": {},
   "outputs": [],
   "source": []
  },
  {
   "cell_type": "code",
   "execution_count": null,
   "metadata": {},
   "outputs": [],
   "source": []
  },
  {
   "cell_type": "code",
   "execution_count": null,
   "metadata": {},
   "outputs": [],
   "source": []
  },
  {
   "cell_type": "code",
   "execution_count": null,
   "metadata": {},
   "outputs": [],
   "source": []
  }
 ],
 "metadata": {
  "kernelspec": {
   "display_name": "Python 3",
   "language": "python",
   "name": "python3"
  },
  "language_info": {
   "codemirror_mode": {
    "name": "ipython",
    "version": 3
   },
   "file_extension": ".py",
   "mimetype": "text/x-python",
   "name": "python",
   "nbconvert_exporter": "python",
   "pygments_lexer": "ipython3",
   "version": "3.6.3"
  }
 },
 "nbformat": 4,
 "nbformat_minor": 2
}
