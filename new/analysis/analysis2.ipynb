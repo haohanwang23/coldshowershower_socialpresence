{
 "cells": [
  {
   "cell_type": "markdown",
   "metadata": {},
   "source": [
    "### Import libraries"
   ]
  },
  {
   "cell_type": "code",
   "execution_count": 1,
   "metadata": {},
   "outputs": [],
   "source": [
    "import numpy as np \n",
    "# import tensorflow as tf\n",
    "import pandas as pd\n",
    "import matplotlib.pyplot as plt\n",
    "import seaborn as sns\n",
    "import cvxEDA\n",
    "import datetime\n",
    "from scipy import stats\n",
    "from mpl_toolkits import mplot3d\n",
    "import pylab as pl\n",
    "from mpl_toolkits.mplot3d import Axes3D\n",
    "from sklearn.cluster import KMeans\n",
    "from sklearn.datasets import make_blobs\n",
    "from scipy.stats import ks_2samp\n",
    "from scipy.stats import ttest_1samp, wilcoxon, ttest_ind, mannwhitneyu\n",
    "from sklearn.preprocessing import normalize\n",
    "sns.set(color_codes = True)\n",
    "%matplotlib inline\n",
    "%config InlineBackend.figure_format = 'retina'"
   ]
  },
  {
   "cell_type": "markdown",
   "metadata": {},
   "source": [
    "# Import data day 1"
   ]
  },
  {
   "cell_type": "code",
   "execution_count": 2,
   "metadata": {},
   "outputs": [
    {
     "name": "stdout",
     "output_type": "stream",
     "text": [
      "5540\n",
      "freq:  [4.]\n"
     ]
    },
    {
     "data": {
      "text/html": [
       "<div>\n",
       "<style scoped>\n",
       "    .dataframe tbody tr th:only-of-type {\n",
       "        vertical-align: middle;\n",
       "    }\n",
       "\n",
       "    .dataframe tbody tr th {\n",
       "        vertical-align: top;\n",
       "    }\n",
       "\n",
       "    .dataframe thead th {\n",
       "        text-align: right;\n",
       "    }\n",
       "</style>\n",
       "<table border=\"1\" class=\"dataframe\">\n",
       "  <thead>\n",
       "    <tr style=\"text-align: right;\">\n",
       "      <th></th>\n",
       "      <th>eda</th>\n",
       "    </tr>\n",
       "  </thead>\n",
       "  <tbody>\n",
       "    <tr>\n",
       "      <th>0</th>\n",
       "      <td>1.530656e+09</td>\n",
       "    </tr>\n",
       "    <tr>\n",
       "      <th>1</th>\n",
       "      <td>4.000000e+00</td>\n",
       "    </tr>\n",
       "    <tr>\n",
       "      <th>2</th>\n",
       "      <td>0.000000e+00</td>\n",
       "    </tr>\n",
       "    <tr>\n",
       "      <th>3</th>\n",
       "      <td>3.715400e-02</td>\n",
       "    </tr>\n",
       "    <tr>\n",
       "      <th>4</th>\n",
       "      <td>4.356000e-02</td>\n",
       "    </tr>\n",
       "    <tr>\n",
       "      <th>5</th>\n",
       "      <td>4.356000e-02</td>\n",
       "    </tr>\n",
       "    <tr>\n",
       "      <th>6</th>\n",
       "      <td>4.484100e-02</td>\n",
       "    </tr>\n",
       "    <tr>\n",
       "      <th>7</th>\n",
       "      <td>4.868500e-02</td>\n",
       "    </tr>\n",
       "    <tr>\n",
       "      <th>8</th>\n",
       "      <td>4.356000e-02</td>\n",
       "    </tr>\n",
       "    <tr>\n",
       "      <th>9</th>\n",
       "      <td>4.484100e-02</td>\n",
       "    </tr>\n",
       "  </tbody>\n",
       "</table>\n",
       "</div>"
      ],
      "text/plain": [
       "            eda\n",
       "0  1.530656e+09\n",
       "1  4.000000e+00\n",
       "2  0.000000e+00\n",
       "3  3.715400e-02\n",
       "4  4.356000e-02\n",
       "5  4.356000e-02\n",
       "6  4.484100e-02\n",
       "7  4.868500e-02\n",
       "8  4.356000e-02\n",
       "9  4.484100e-02"
      ]
     },
     "execution_count": 2,
     "metadata": {},
     "output_type": "execute_result"
    }
   ],
   "source": [
    "# Sampling frequency 4Hz ~= 0.25s\n",
    "#6/27/2018\n",
    "fl_eda_7 = pd.read_csv('../data/day_7/EDA.csv' , header= None)\n",
    "fl_eda_7.columns  = ['eda']\n",
    "fl_eda_freq_7 = fl_eda_7.iloc[1].values\n",
    "print(len(fl_eda_7))\n",
    "print('freq: ', fl_eda_freq_7)\n",
    "fl_eda_7.head(10)"
   ]
  },
  {
   "cell_type": "code",
   "execution_count": 3,
   "metadata": {},
   "outputs": [
    {
     "name": "stdout",
     "output_type": "stream",
     "text": [
      "5540\n"
     ]
    },
    {
     "data": {
      "text/html": [
       "<div>\n",
       "<style scoped>\n",
       "    .dataframe tbody tr th:only-of-type {\n",
       "        vertical-align: middle;\n",
       "    }\n",
       "\n",
       "    .dataframe tbody tr th {\n",
       "        vertical-align: top;\n",
       "    }\n",
       "\n",
       "    .dataframe thead th {\n",
       "        text-align: right;\n",
       "    }\n",
       "</style>\n",
       "<table border=\"1\" class=\"dataframe\">\n",
       "  <thead>\n",
       "    <tr style=\"text-align: right;\">\n",
       "      <th></th>\n",
       "      <th>eda</th>\n",
       "    </tr>\n",
       "  </thead>\n",
       "  <tbody>\n",
       "    <tr>\n",
       "      <th>0</th>\n",
       "      <td>1.530656e+09</td>\n",
       "    </tr>\n",
       "    <tr>\n",
       "      <th>1</th>\n",
       "      <td>4.000000e+00</td>\n",
       "    </tr>\n",
       "    <tr>\n",
       "      <th>2</th>\n",
       "      <td>0.000000e+00</td>\n",
       "    </tr>\n",
       "    <tr>\n",
       "      <th>3</th>\n",
       "      <td>3.715400e-02</td>\n",
       "    </tr>\n",
       "    <tr>\n",
       "      <th>4</th>\n",
       "      <td>4.356000e-02</td>\n",
       "    </tr>\n",
       "  </tbody>\n",
       "</table>\n",
       "</div>"
      ],
      "text/plain": [
       "            eda\n",
       "0  1.530656e+09\n",
       "1  4.000000e+00\n",
       "2  0.000000e+00\n",
       "3  3.715400e-02\n",
       "4  4.356000e-02"
      ]
     },
     "execution_count": 3,
     "metadata": {},
     "output_type": "execute_result"
    }
   ],
   "source": [
    "print(len(fl_eda_7))\n",
    "fl_eda_7.head(5)"
   ]
  },
  {
   "cell_type": "markdown",
   "metadata": {},
   "source": [
    "## Convert time"
   ]
  },
  {
   "cell_type": "code",
   "execution_count": 4,
   "metadata": {},
   "outputs": [
    {
     "data": {
      "text/plain": [
       "'2018-07-03 15:11:35'"
      ]
     },
     "execution_count": 4,
     "metadata": {},
     "output_type": "execute_result"
    }
   ],
   "source": [
    "fl_init_time_7 = datetime.datetime.fromtimestamp(fl_eda_7.iloc[0]).strftime('%Y-%m-%d %H:%M:%S')\n",
    "fl_init_time_7"
   ]
  },
  {
   "cell_type": "code",
   "execution_count": 5,
   "metadata": {},
   "outputs": [],
   "source": [
    "fl_eda_7 = fl_eda_7.iloc[3:]"
   ]
  },
  {
   "cell_type": "code",
   "execution_count": 6,
   "metadata": {},
   "outputs": [
    {
     "data": {
      "text/plain": [
       "DatetimeIndex([       '2018-07-03 15:11:35', '2018-07-03 15:11:35.250000',\n",
       "               '2018-07-03 15:11:35.500000', '2018-07-03 15:11:35.750000',\n",
       "                      '2018-07-03 15:11:36', '2018-07-03 15:11:36.250000',\n",
       "               '2018-07-03 15:11:36.500000', '2018-07-03 15:11:36.750000',\n",
       "                      '2018-07-03 15:11:37', '2018-07-03 15:11:37.250000',\n",
       "               ...\n",
       "               '2018-07-03 15:34:36.750000',        '2018-07-03 15:34:37',\n",
       "               '2018-07-03 15:34:37.250000', '2018-07-03 15:34:37.500000',\n",
       "               '2018-07-03 15:34:37.750000',        '2018-07-03 15:34:38',\n",
       "               '2018-07-03 15:34:38.250000', '2018-07-03 15:34:38.500000',\n",
       "               '2018-07-03 15:34:38.750000',        '2018-07-03 15:34:39'],\n",
       "              dtype='datetime64[ns]', length=5537, freq='250L')"
      ]
     },
     "execution_count": 6,
     "metadata": {},
     "output_type": "execute_result"
    }
   ],
   "source": [
    "fl_time_eda_7 = pd.date_range(start=fl_init_time_7, periods=len(fl_eda_7), \n",
    "                              freq=str(1/int(fl_eda_freq_7))+'S')\n",
    "fl_time_eda_7"
   ]
  },
  {
   "cell_type": "code",
   "execution_count": 7,
   "metadata": {},
   "outputs": [
    {
     "name": "stdout",
     "output_type": "stream",
     "text": [
      "5537\n"
     ]
    },
    {
     "data": {
      "text/html": [
       "<div>\n",
       "<style scoped>\n",
       "    .dataframe tbody tr th:only-of-type {\n",
       "        vertical-align: middle;\n",
       "    }\n",
       "\n",
       "    .dataframe tbody tr th {\n",
       "        vertical-align: top;\n",
       "    }\n",
       "\n",
       "    .dataframe thead th {\n",
       "        text-align: right;\n",
       "    }\n",
       "</style>\n",
       "<table border=\"1\" class=\"dataframe\">\n",
       "  <thead>\n",
       "    <tr style=\"text-align: right;\">\n",
       "      <th></th>\n",
       "      <th>eda</th>\n",
       "    </tr>\n",
       "  </thead>\n",
       "  <tbody>\n",
       "    <tr>\n",
       "      <th>2018-07-03 15:11:35.000</th>\n",
       "      <td>0.037154</td>\n",
       "    </tr>\n",
       "    <tr>\n",
       "      <th>2018-07-03 15:11:35.250</th>\n",
       "      <td>0.043560</td>\n",
       "    </tr>\n",
       "    <tr>\n",
       "      <th>2018-07-03 15:11:35.500</th>\n",
       "      <td>0.043560</td>\n",
       "    </tr>\n",
       "    <tr>\n",
       "      <th>2018-07-03 15:11:35.750</th>\n",
       "      <td>0.044841</td>\n",
       "    </tr>\n",
       "    <tr>\n",
       "      <th>2018-07-03 15:11:36.000</th>\n",
       "      <td>0.048685</td>\n",
       "    </tr>\n",
       "  </tbody>\n",
       "</table>\n",
       "</div>"
      ],
      "text/plain": [
       "                              eda\n",
       "2018-07-03 15:11:35.000  0.037154\n",
       "2018-07-03 15:11:35.250  0.043560\n",
       "2018-07-03 15:11:35.500  0.043560\n",
       "2018-07-03 15:11:35.750  0.044841\n",
       "2018-07-03 15:11:36.000  0.048685"
      ]
     },
     "execution_count": 7,
     "metadata": {},
     "output_type": "execute_result"
    }
   ],
   "source": [
    "fl_eda_7 = fl_eda_7.set_index(fl_time_eda_7, drop =True)\n",
    "fl_eda_7 = fl_eda_7[:]\n",
    "fl_eda_7 = fl_eda_7.dropna()\n",
    "print(len(fl_eda_7))\n",
    "fl_eda_7.head()"
   ]
  },
  {
   "cell_type": "markdown",
   "metadata": {},
   "source": [
    "# Remove outliers"
   ]
  },
  {
   "cell_type": "code",
   "execution_count": 8,
   "metadata": {
    "scrolled": true
   },
   "outputs": [
    {
     "name": "stdout",
     "output_type": "stream",
     "text": [
      "5537\n"
     ]
    },
    {
     "data": {
      "text/html": [
       "<div>\n",
       "<style scoped>\n",
       "    .dataframe tbody tr th:only-of-type {\n",
       "        vertical-align: middle;\n",
       "    }\n",
       "\n",
       "    .dataframe tbody tr th {\n",
       "        vertical-align: top;\n",
       "    }\n",
       "\n",
       "    .dataframe thead th {\n",
       "        text-align: right;\n",
       "    }\n",
       "</style>\n",
       "<table border=\"1\" class=\"dataframe\">\n",
       "  <thead>\n",
       "    <tr style=\"text-align: right;\">\n",
       "      <th></th>\n",
       "      <th>eda</th>\n",
       "    </tr>\n",
       "  </thead>\n",
       "  <tbody>\n",
       "    <tr>\n",
       "      <th>2018-07-03 15:11:35.000</th>\n",
       "      <td>0.037154</td>\n",
       "    </tr>\n",
       "    <tr>\n",
       "      <th>2018-07-03 15:11:35.250</th>\n",
       "      <td>0.043560</td>\n",
       "    </tr>\n",
       "    <tr>\n",
       "      <th>2018-07-03 15:11:35.500</th>\n",
       "      <td>0.043560</td>\n",
       "    </tr>\n",
       "    <tr>\n",
       "      <th>2018-07-03 15:11:35.750</th>\n",
       "      <td>0.044841</td>\n",
       "    </tr>\n",
       "    <tr>\n",
       "      <th>2018-07-03 15:11:36.000</th>\n",
       "      <td>0.048685</td>\n",
       "    </tr>\n",
       "  </tbody>\n",
       "</table>\n",
       "</div>"
      ],
      "text/plain": [
       "                              eda\n",
       "2018-07-03 15:11:35.000  0.037154\n",
       "2018-07-03 15:11:35.250  0.043560\n",
       "2018-07-03 15:11:35.500  0.043560\n",
       "2018-07-03 15:11:35.750  0.044841\n",
       "2018-07-03 15:11:36.000  0.048685"
      ]
     },
     "execution_count": 8,
     "metadata": {},
     "output_type": "execute_result"
    }
   ],
   "source": [
    "fl_exp7 = fl_eda_7.copy()#example dataset of normally distributed data. \n",
    "\n",
    "\n",
    "fl_exp7= fl_exp7[np.abs(fl_exp7.eda-fl_exp7.eda.mean())<=(3*fl_exp7.eda.std())] #keep only the ones that are within +3 to -3 standard deviations in the column 'Data'.\n",
    "fl_exp7= fl_exp7[~(np.abs(fl_exp7.eda-fl_exp7.eda.mean())>(3*fl_exp7.eda.std()))] #or if you prefer the other way around\n",
    "fl_exp7 = fl_exp7.dropna()\n",
    "print(len(fl_exp7))\n",
    "fl_exp7.head()"
   ]
  },
  {
   "cell_type": "markdown",
   "metadata": {},
   "source": [
    "## Time marks"
   ]
  },
  {
   "cell_type": "code",
   "execution_count": 9,
   "metadata": {},
   "outputs": [
    {
     "data": {
      "text/html": [
       "<div>\n",
       "<style scoped>\n",
       "    .dataframe tbody tr th:only-of-type {\n",
       "        vertical-align: middle;\n",
       "    }\n",
       "\n",
       "    .dataframe tbody tr th {\n",
       "        vertical-align: top;\n",
       "    }\n",
       "\n",
       "    .dataframe thead th {\n",
       "        text-align: right;\n",
       "    }\n",
       "</style>\n",
       "<table border=\"1\" class=\"dataframe\">\n",
       "  <thead>\n",
       "    <tr style=\"text-align: right;\">\n",
       "      <th></th>\n",
       "      <th>tagged_time</th>\n",
       "      <th>presence</th>\n",
       "      <th>label</th>\n",
       "    </tr>\n",
       "  </thead>\n",
       "  <tbody>\n",
       "    <tr>\n",
       "      <th>0</th>\n",
       "      <td>2018-07-03 15:16:11.331</td>\n",
       "      <td>0</td>\n",
       "      <td>premed S</td>\n",
       "    </tr>\n",
       "    <tr>\n",
       "      <th>1</th>\n",
       "      <td>2018-07-03 15:19:19.666</td>\n",
       "      <td>0</td>\n",
       "      <td>premed E</td>\n",
       "    </tr>\n",
       "    <tr>\n",
       "      <th>2</th>\n",
       "      <td>2018-07-03 15:21:01.527</td>\n",
       "      <td>0</td>\n",
       "      <td>prep S</td>\n",
       "    </tr>\n",
       "    <tr>\n",
       "      <th>3</th>\n",
       "      <td>2018-07-03 15:21:12.702</td>\n",
       "      <td>0</td>\n",
       "      <td>prep E</td>\n",
       "    </tr>\n",
       "    <tr>\n",
       "      <th>4</th>\n",
       "      <td>2018-07-03 15:23:30.496</td>\n",
       "      <td>0</td>\n",
       "      <td>shower S</td>\n",
       "    </tr>\n",
       "  </tbody>\n",
       "</table>\n",
       "</div>"
      ],
      "text/plain": [
       "               tagged_time  presence      label\n",
       "0  2018-07-03 15:16:11.331         0  premed S \n",
       "1  2018-07-03 15:19:19.666         0   premed E\n",
       "2  2018-07-03 15:21:01.527         0     prep S\n",
       "3  2018-07-03 15:21:12.702         0     prep E\n",
       "4  2018-07-03 15:23:30.496         0   shower S"
      ]
     },
     "execution_count": 9,
     "metadata": {},
     "output_type": "execute_result"
    }
   ],
   "source": [
    "tags_7 = pd.read_csv('../data/marks/7.3.csv' , header= None)\n",
    "# tags_2 = tags_2.drop(tags_2.columns[2],axis=1)\n",
    "tags_7.columns  =  ['tagged_time','presence','label']\n",
    "tags_7 = tags_7.sort_values('tagged_time')\n",
    "tags_7 = tags_7.reset_index(drop=True)\n",
    "tags_7.head()"
   ]
  },
  {
   "cell_type": "code",
   "execution_count": 10,
   "metadata": {},
   "outputs": [
    {
     "data": {
      "text/plain": [
       "'2018-07-03 15:16:11.331'"
      ]
     },
     "execution_count": 10,
     "metadata": {},
     "output_type": "execute_result"
    }
   ],
   "source": [
    "tags_7.tagged_time[0]"
   ]
  },
  {
   "cell_type": "markdown",
   "metadata": {},
   "source": [
    "## Separate Data"
   ]
  },
  {
   "cell_type": "code",
   "execution_count": 11,
   "metadata": {},
   "outputs": [],
   "source": [
    "# cat_1 = fl_exp7.loc['2018-07-03 15:20:30.000':'2018-07-03 15:30:55.000']\n",
    "# cat_1.head()"
   ]
  },
  {
   "cell_type": "code",
   "execution_count": null,
   "metadata": {},
   "outputs": [],
   "source": []
  },
  {
   "cell_type": "markdown",
   "metadata": {},
   "source": [
    "# Visualization"
   ]
  },
  {
   "cell_type": "code",
   "execution_count": 12,
   "metadata": {},
   "outputs": [
    {
     "name": "stdout",
     "output_type": "stream",
     "text": [
      "0.1542021410511107\n"
     ]
    },
    {
     "data": {
      "text/plain": [
       "<matplotlib.figure.Figure at 0x7f683a23b0b8>"
      ]
     },
     "metadata": {},
     "output_type": "display_data"
    },
    {
     "data": {
      "image/png": "[encoded data removed]",
      "text/plain": [
       "<matplotlib.figure.Figure at 0x7f683a23b080>"
      ]
     },
     "metadata": {
      "image/png": {
       "height": 381,
       "width": 880
      }
     },
     "output_type": "display_data"
    }
   ],
   "source": [
    "plt.figure(figsize=(15,6))\n",
    "\n",
    "# plt.axvline(x = '2018-07-03 15:20:50.000',color = 'mediumaquamarine',linestyle='--')\n",
    "plt.figure(figsize=(15,6))\n",
    "plt.plot(fl_exp7['eda'],color ='mediumaquamarine')\n",
    "\n",
    "for (idx,data_point, presence, label) in tags_7.itertuples():\n",
    "#     print(data_point)\n",
    "    plt.axvline(x=data_point,color = 'lightsalmon', linestyle='--')\n",
    "    plt.text(data_point,0.05, s=label, horizontalalignment='center', verticalalignment='center',\n",
    "            fontsize=15)\n",
    "# # plt.axvline(x = tags_2.tagged_time[5],color = 'c',linestyle='--')\n",
    "plt.figtext(.5,.9,'Day 7 Social presence and stress response of cold shower - EDA ',\n",
    "            fontsize=20, ha='center')\n",
    "plt.legend(['EDA_day3'],loc=2,fontsize='medium')\n",
    "\n",
    "eda_mean = np.mean(fl_exp7.eda)\n",
    "print(eda_mean)\n",
    "# plt.axhline(y = eda_mean, color = 'limegreen', linestyle = '--')\n",
    "# plt.savefig('black-eda.png', transparent=True)\n",
    "\n",
    "plt.show()\n"
   ]
  },
  {
   "cell_type": "markdown",
   "metadata": {},
   "source": [
    "# cvxEDA"
   ]
  },
  {
   "cell_type": "code",
   "execution_count": 13,
   "metadata": {},
   "outputs": [],
   "source": [
    "params = {'legend.fontsize': 'large',\n",
    "          'figure.figsize': (10, 8),\n",
    "         'axes.labelsize': 'large',\n",
    "         'axes.titlesize':'large',\n",
    "         'xtick.labelsize':'large',\n",
    "         'ytick.labelsize':'large'}\n",
    "pl.rcParams.update(params)"
   ]
  },
  {
   "cell_type": "code",
   "execution_count": 14,
   "metadata": {},
   "outputs": [
    {
     "ename": "NameError",
     "evalue": "name 'cat_1' is not defined",
     "output_type": "error",
     "traceback": [
      "\u001b[0;31m---------------------------------------------------------------------------\u001b[0m",
      "\u001b[0;31mNameError\u001b[0m                                 Traceback (most recent call last)",
      "\u001b[0;32m<ipython-input-14-a3442aabf8eb>\u001b[0m in \u001b[0;36m<module>\u001b[0;34m()\u001b[0m\n\u001b[0;32m----> 1\u001b[0;31m \u001b[0my1\u001b[0m \u001b[0;34m=\u001b[0m \u001b[0mnp\u001b[0m\u001b[0;34m.\u001b[0m\u001b[0masarray\u001b[0m\u001b[0;34m(\u001b[0m\u001b[0mcat_1\u001b[0m\u001b[0;34m.\u001b[0m\u001b[0meda\u001b[0m\u001b[0;34m)\u001b[0m\u001b[0;34m\u001b[0m\u001b[0m\n\u001b[0m\u001b[1;32m      2\u001b[0m \u001b[0my1\u001b[0m\u001b[0;34m[\u001b[0m\u001b[0;34m:\u001b[0m\u001b[0;36m10\u001b[0m\u001b[0;34m]\u001b[0m\u001b[0;34m\u001b[0m\u001b[0m\n",
      "\u001b[0;31mNameError\u001b[0m: name 'cat_1' is not defined"
     ]
    }
   ],
   "source": [
    "y1 = np.asarray(cat_1.eda)\n",
    "y1[:10]"
   ]
  },
  {
   "cell_type": "code",
   "execution_count": null,
   "metadata": {},
   "outputs": [],
   "source": [
    "yn1 = (y1 - y1.mean()) / y1.std()\n",
    "Fs = 4.\n",
    "[r1, p1, t1, l1, d1, e1, obj1] = cvxEDA.cvxEDA(yn1, 1./Fs)\n",
    "\n",
    "# pl.rcParams['figure.figsize'] = (30,20)\n",
    "tm1 = pl.arange(1., len(y1)+1.) / Fs\n"
   ]
  },
  {
   "cell_type": "code",
   "execution_count": null,
   "metadata": {},
   "outputs": [],
   "source": [
    "pl.hold(True)\n",
    "pl.plot(tm1, yn1,alpha = 0.6)\n",
    "\n",
    "pl.plot(tm1, r1,alpha = 0.5)\n",
    "pl.plot(tm1, p1,alpha = 0.6)\n",
    "pl.plot(tm1, t1,alpha = 0.6)\n",
    "\n",
    "\n",
    "pl.title('cvxEDA Deconvolution Analysis on EDA - Red')\n",
    "pl.legend(['SC Z-score','Phasic Component','SMNA sparse driver of phasic component',\n",
    "           ])\n",
    "plt.savefig('red-cvxEDA.png', transparent=True)\n",
    "plt.show()"
   ]
  },
  {
   "cell_type": "code",
   "execution_count": null,
   "metadata": {},
   "outputs": [],
   "source": []
  },
  {
   "cell_type": "code",
   "execution_count": null,
   "metadata": {},
   "outputs": [],
   "source": []
  },
  {
   "cell_type": "markdown",
   "metadata": {},
   "source": [
    "## Logarithm "
   ]
  },
  {
   "cell_type": "code",
   "execution_count": null,
   "metadata": {},
   "outputs": [],
   "source": [
    "# fl_exp2['eda'] = np.log(fl_exp2['eda'])\n",
    "fl_exp2['eda'] =  tf.log(fl_exp2['eda'])\n",
    "\n",
    "fl_exp2.head(5)"
   ]
  },
  {
   "cell_type": "code",
   "execution_count": null,
   "metadata": {},
   "outputs": [],
   "source": [
    "log_eda_mean = np.mean(fl_exp2.eda)\n",
    "print(log_eda_mean)\n",
    "plt.figure(figsize=(15,6))\n",
    "plt.plot(fl_exp2['eda'],color ='limegreen')\n",
    "plt.figtext(.5,.9,'Stress response to cold showermodulated by social presence experiment- EDA ', fontsize=20, ha='center')\n",
    "plt.legend(['EDA'],loc=1,fontsize='medium')\n",
    "plt.axhline(y = log_eda_mean,color = 'salmon',linestyle='--')\n",
    "plt.axvline(x = tags_2.tagged_time[0],color = 'hotpink',linestyle='--')\n",
    "plt.axvline(x = tags_2.tagged_time[1],color = 'hotpink',linestyle='--')\n",
    "plt.axvline(x = tags_2.tagged_time[3],color = 'c',linestyle='--')\n",
    "plt.axvline(x = tags_2.tagged_time[4],color = 'c',linestyle='--')\n",
    "plt.axvline(x = tags_2.tagged_time[5],color = 'c',linestyle='--')\n",
    "plt.show()"
   ]
  },
  {
   "cell_type": "code",
   "execution_count": null,
   "metadata": {},
   "outputs": [],
   "source": []
  },
  {
   "cell_type": "code",
   "execution_count": null,
   "metadata": {},
   "outputs": [],
   "source": []
  },
  {
   "cell_type": "code",
   "execution_count": null,
   "metadata": {},
   "outputs": [],
   "source": []
  },
  {
   "cell_type": "code",
   "execution_count": null,
   "metadata": {},
   "outputs": [],
   "source": []
  },
  {
   "cell_type": "code",
   "execution_count": null,
   "metadata": {},
   "outputs": [],
   "source": []
  },
  {
   "cell_type": "code",
   "execution_count": null,
   "metadata": {},
   "outputs": [],
   "source": []
  },
  {
   "cell_type": "code",
   "execution_count": null,
   "metadata": {},
   "outputs": [],
   "source": []
  },
  {
   "cell_type": "code",
   "execution_count": null,
   "metadata": {},
   "outputs": [],
   "source": []
  },
  {
   "cell_type": "code",
   "execution_count": null,
   "metadata": {},
   "outputs": [],
   "source": []
  },
  {
   "cell_type": "code",
   "execution_count": null,
   "metadata": {},
   "outputs": [],
   "source": []
  },
  {
   "cell_type": "code",
   "execution_count": null,
   "metadata": {},
   "outputs": [],
   "source": []
  }
 ],
 "metadata": {
  "kernelspec": {
   "display_name": "Python 3",
   "language": "python",
   "name": "python3"
  },
  "language_info": {
   "codemirror_mode": {
    "name": "ipython",
    "version": 3
   },
   "file_extension": ".py",
   "mimetype": "text/x-python",
   "name": "python",
   "nbconvert_exporter": "python",
   "pygments_lexer": "ipython3",
   "version": "3.5.2"
  }
 },
 "nbformat": 4,
 "nbformat_minor": 2
}
